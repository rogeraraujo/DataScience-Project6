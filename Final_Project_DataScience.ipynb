{
 "cells": [
  {
   "cell_type": "code",
   "execution_count": 2,
   "metadata": {
    "collapsed": true
   },
   "outputs": [],
   "source": [
    "### RUN THIS\n",
    "import pandas as pd"
   ]
  },
  {
   "cell_type": "code",
   "execution_count": 58,
   "metadata": {
    "collapsed": true
   },
   "outputs": [],
   "source": [
    "# Load data file\n",
    "df = pd.read_csv('censo2ok.csv', sep = ';')\n",
    "df.head()\n",
    "\n",
    "# Drop unwanted columns\n",
    "df = df.drop('telefone', axis=1)\n",
    "\n",
    "# Drop unwanted states\n",
    "df = df[df.endereco_uf == 'RN']"
   ]
  },
  {
   "cell_type": "code",
   "execution_count": 64,
   "metadata": {},
   "outputs": [
    {
     "name": "stdout",
     "output_type": "stream",
     "text": [
      "Done!\n"
     ]
    }
   ],
   "source": [
    "import numpy as np\n",
    "\n",
    "# Compute full address\n",
    "def compute_full_address(row):\n",
    "    # Address type\n",
    "    addr_type = row['tipoendereco']\n",
    "\n",
    "    if (not isinstance(addr_type, str)) and np.isnan(addr_type):\n",
    "        addr_type = ''\n",
    "\n",
    "    result = addr_type\n",
    "\n",
    "    # Street, avenue, etc.\n",
    "    addr_name = row['endereco_logradouro']\n",
    "\n",
    "    if len(result) > 0:\n",
    "        result += ' '\n",
    "\n",
    "    result += addr_name\n",
    "\n",
    "    # Number\n",
    "    addr_num = row['endereco_numero']\n",
    "\n",
    "    if np.isnan(addr_num):\n",
    "        addr_num = ''\n",
    "\n",
    "    if not isinstance(addr_num, str):\n",
    "        addr_num = str(addr_num)\n",
    "\n",
    "    if len(result) > 0:\n",
    "        result += ', '\n",
    "\n",
    "    result += addr_num\n",
    "\n",
    "    # Neighborhood\n",
    "    neigh = row['endereco_bairro']\n",
    "\n",
    "    if (not isinstance(neigh, str)) and np.isnan(neigh):\n",
    "        neigh = ''\n",
    "\n",
    "    if not isinstance(neigh, str):\n",
    "        neigh = str(neigh)\n",
    "\n",
    "    if len(neigh) > 0:\n",
    "        if len(result) > 0:\n",
    "            result += ', '\n",
    "\n",
    "        result += neigh\n",
    "\n",
    "    # City\n",
    "    city = row['endereco_cidade']\n",
    "\n",
    "    if len(city) > 0:\n",
    "        if len(result) > 0:\n",
    "            result += ', '\n",
    "\n",
    "        result += city\n",
    "\n",
    "    # Country\n",
    "    if len(result) > 0:\n",
    "        result += ', '\n",
    "\n",
    "    result += 'Brasil'\n",
    "\n",
    "    return result.upper()\n",
    "\n",
    "df['full_address'] = df.apply(compute_full_address, axis=1)\n",
    "\n",
    "print('Done!')"
   ]
  },
  {
   "cell_type": "code",
   "execution_count": 21,
   "metadata": {
    "collapsed": true
   },
   "outputs": [],
   "source": [
    "### RUN THIS\n",
    "import googlemaps\n",
    "\n",
    "### TYPE YOUR GOOGLE MAPS API KEY HERE\n",
    "gmaps = googlemaps.Client(key='???', timeout=30)"
   ]
  },
  {
   "cell_type": "code",
   "execution_count": 47,
   "metadata": {
    "collapsed": true
   },
   "outputs": [],
   "source": [
    "### RUN THIS\n",
    "from time import sleep\n",
    "from random import randint\n",
    "from time import time\n",
    "from IPython.core.display import clear_output\n",
    "from warnings import warn\n",
    "\n",
    "import numpy as np"
   ]
  },
  {
   "cell_type": "code",
   "execution_count": 67,
   "metadata": {},
   "outputs": [
    {
     "name": "stdout",
     "output_type": "stream",
     "text": [
      "Done!\n"
     ]
    }
   ],
   "source": [
    "df['time_to_hospital'] = df.apply(lambda row : '-1', axis=1)\n",
    "df['distance_to_hospital'] = df.apply(lambda row : '-1', axis=1)\n",
    "df['time_distance_to_hospital'] = df.apply(lambda row : '-1/-1', axis=1)\n",
    "\n",
    "print('Done!')"
   ]
  },
  {
   "cell_type": "code",
   "execution_count": 3,
   "metadata": {
    "scrolled": true
   },
   "outputs": [],
   "source": [
    "### RUN THIS\n",
    "\n",
    "# Reload data file\n",
    "df = pd.read_csv('censo2ok-comdist.csv', sep = ',')\n",
    "#df.head()"
   ]
  },
  {
   "cell_type": "code",
   "execution_count": 22,
   "metadata": {},
   "outputs": [
    {
     "ename": "KeyboardInterrupt",
     "evalue": "",
     "output_type": "error",
     "traceback": [
      "\u001b[0;31m---------------------------------------------------------------------------\u001b[0m",
      "\u001b[0;31mKeyboardInterrupt\u001b[0m                         Traceback (most recent call last)",
      "\u001b[0;32m<ipython-input-22-b1897500d960>\u001b[0m in \u001b[0;36m<module>\u001b[0;34m()\u001b[0m\n\u001b[1;32m     46\u001b[0m     \u001b[0mclear_output\u001b[0m\u001b[0;34m(\u001b[0m\u001b[0mwait\u001b[0m \u001b[0;34m=\u001b[0m \u001b[0;32mTrue\u001b[0m\u001b[0;34m)\u001b[0m\u001b[0;34m\u001b[0m\u001b[0m\n\u001b[1;32m     47\u001b[0m \u001b[0;34m\u001b[0m\u001b[0m\n\u001b[0;32m---> 48\u001b[0;31m     \u001b[0msleep\u001b[0m\u001b[0;34m(\u001b[0m\u001b[0mrandint\u001b[0m\u001b[0;34m(\u001b[0m\u001b[0;36m35\u001b[0m\u001b[0;34m,\u001b[0m \u001b[0;36m37\u001b[0m\u001b[0;34m)\u001b[0m\u001b[0;34m)\u001b[0m\u001b[0;34m\u001b[0m\u001b[0m\n\u001b[0m\u001b[1;32m     49\u001b[0m \u001b[0;34m\u001b[0m\u001b[0m\n\u001b[1;32m     50\u001b[0m \u001b[0mprint\u001b[0m\u001b[0;34m(\u001b[0m\u001b[0;34m'Last processed row: '\u001b[0m \u001b[0;34m+\u001b[0m \u001b[0mstr\u001b[0m\u001b[0;34m(\u001b[0m\u001b[0mlast_processed_row\u001b[0m\u001b[0;34m)\u001b[0m\u001b[0;34m)\u001b[0m\u001b[0;34m\u001b[0m\u001b[0m\n",
      "\u001b[0;31mKeyboardInterrupt\u001b[0m: "
     ]
    }
   ],
   "source": [
    "### RUN THIS\n",
    "\n",
    "def calc_time_distance_to_hospital(row):\n",
    "    origin = row['full_address']\n",
    "    destination = 'Avenida Nilo Peçanha, 259, Petrópolis, Natal, Brasil'  # Januário Cicco\n",
    "\n",
    "    dist_matrix = gmaps.distance_matrix( \\\n",
    "        origins=origin, destinations=destination, \\\n",
    "        mode='driving', language='english', units='metric')\n",
    "\n",
    "    if (dist_matrix is None) or (not isinstance(dist_matrix, dict)):\n",
    "        return '-1/-1'\n",
    "\n",
    "    if dist_matrix['status'] != 'OK':\n",
    "        return '-1/-1'\n",
    "\n",
    "    try:\n",
    "        dist_rows = dist_matrix['rows']  # Array\n",
    "        dist_elems = dist_rows[0]['elements']  # Array\n",
    "\n",
    "        elem_dur = dist_elems[0]['duration']  # Dict\n",
    "        time_to_hosp = elem_dur['value']\n",
    "        print('TTH: ' + str(time_to_hosp))\n",
    "\n",
    "        elem_dist = dist_elems[0]['distance']  # Dict\n",
    "        dist_to_hosp = elem_dist['value']\n",
    "        print('DTH: ' + str(dist_to_hosp))\n",
    "\n",
    "        return str(time_to_hosp) + '/' + str(dist_to_hosp)\n",
    "    except:\n",
    "        return '-1/-1'\n",
    "\n",
    "last_processed_row = -1\n",
    "\n",
    "for i, row in df.iterrows():\n",
    "    # Process only rows 2414-8246\n",
    "    if i < 2414 or i > 8246:\n",
    "        continue\n",
    "\n",
    "    last_processed_row = i\n",
    "\n",
    "    time_dist = calc_time_distance_to_hospital(row)\n",
    "    df.set_value(i, 'time_distance_to_hospital', time_dist)\n",
    "\n",
    "    # ATTENTION If we're processing for a full day, we should\n",
    "    #           wait at least 35 seconds here (86400 / 2500)\n",
    "    print('Request: {}'.format(i))\n",
    "    clear_output(wait = True)\n",
    "\n",
    "    sleep(randint(35, 37))\n",
    "\n",
    "print('Last processed row: ' + str(last_processed_row))\n",
    "print('Done!')"
   ]
  },
  {
   "cell_type": "code",
   "execution_count": 68,
   "metadata": {},
   "outputs": [
    {
     "data": {
      "text/plain": [
       "array(['-1/-1'], dtype=object)"
      ]
     },
     "execution_count": 68,
     "metadata": {},
     "output_type": "execute_result"
    }
   ],
   "source": [
    "#print(df.iloc[0])\n",
    "df['time_distance_to_hospital'].unique()"
   ]
  },
  {
   "cell_type": "code",
   "execution_count": 23,
   "metadata": {},
   "outputs": [
    {
     "name": "stdout",
     "output_type": "stream",
     "text": [
      "Done!\n"
     ]
    }
   ],
   "source": [
    "### RUN THIS\n",
    "\n",
    "df.to_csv('censo2ok-comdist.csv')\n",
    "print('Done!')"
   ]
  },
  {
   "cell_type": "code",
   "execution_count": 8,
   "metadata": {},
   "outputs": [
    {
     "name": "stdout",
     "output_type": "stream",
     "text": [
      "2016-11-28 08:51:40\n",
      "2017-11-28 08:51:40\n",
      "Day diff: 365\n",
      "Second diff: 0\n"
     ]
    }
   ],
   "source": [
    "from datetime import datetime\n",
    "\n",
    "date_obj_1 = datetime.strptime('28/11/2016 08:51:40', '%d/%m/%Y %H:%M:%S')\n",
    "date_obj_2 = datetime.strptime('28/11/2017 08:51:40', '%d/%m/%Y %H:%M:%S')\n",
    "delta = date_obj_2 - date_obj_1\n",
    "\n",
    "print(date_obj_1)\n",
    "print(date_obj_2)\n",
    "print('Days diff: ' + str(delta.days))\n",
    "print('Seconds diff: ' + str(delta.seconds))"
   ]
  },
  {
   "cell_type": "code",
   "execution_count": 4,
   "metadata": {},
   "outputs": [],
   "source": [
    "# Reload data file\n",
    "df = pd.read_csv('censo2ok-comdist-4-2.csv', sep = ',')\n",
    "#df.head(1)"
   ]
  },
  {
   "cell_type": "code",
   "execution_count": 41,
   "metadata": {},
   "outputs": [
    {
     "name": "stdout",
     "output_type": "stream",
     "text": [
      "Done!\n"
     ]
    }
   ],
   "source": [
    "df['hospital_wait_time'] = df.apply(lambda row : '-1', axis=1)\n",
    "df['hospital_service_time'] = df.apply(lambda row : '-1', axis=1)\n",
    "\n",
    "for i, row in df.iterrows():\n",
    "    #if i < 0 or i > 4:\n",
    "    #    continue\n",
    "\n",
    "    tdh_items = row['time_distance_to_hospital'].split('/', 2)\n",
    "    #print(tdh_items[0] + ' / ' + tdh_items[1])\n",
    "\n",
    "    wait_time = -1\n",
    "    service_time = -1\n",
    "\n",
    "    try:\n",
    "        arrival_time = datetime.strptime(row['chegada'], '%d/%m/%Y %H:%M:%S')\n",
    "        service_start = datetime.strptime(row['inicio'], '%d/%m/%Y %H:%M:%S')\n",
    "        wait_delta = service_start - arrival_time\n",
    "        wait_time = wait_delta.days * 86400 + wait_delta.seconds\n",
    "\n",
    "        service_end = datetime.strptime(row['fim'], '%d/%m/%Y %H:%M:%S')\n",
    "        service_delta = service_end - service_start\n",
    "        service_time = service_delta.days * 86400 + service_delta.seconds\n",
    "    except:\n",
    "        pass\n",
    "\n",
    "    #print('   ' + str(wait_time) + ' # ' + str(service_time))\n",
    "\n",
    "    df.set_value(i, 'time_to_hospital', int(tdh_items[0]))\n",
    "    df.set_value(i, 'distance_to_hospital', int(tdh_items[1]))\n",
    "    df.set_value(i, 'hospital_wait_time', int(wait_time))\n",
    "    df.set_value(i, 'hospital_service_time', int(service_time))\n",
    "\n",
    "print('Done!')"
   ]
  },
  {
   "cell_type": "code",
   "execution_count": 42,
   "metadata": {},
   "outputs": [
    {
     "name": "stdout",
     "output_type": "stream",
     "text": [
      "Done!\n"
     ]
    }
   ],
   "source": [
    "df = df.drop('time_distance_to_hospital', axis=1)\n",
    "#df = df.drop('full_address', axis=1)\n",
    "df = df.drop('telefone', axis=1)\n",
    "\n",
    "df.to_csv('censo2ok-comdist-6.csv')\n",
    "print('Done!')"
   ]
  },
  {
   "cell_type": "code",
   "execution_count": 85,
   "metadata": {
    "collapsed": true
   },
   "outputs": [],
   "source": [
    "# KNN estimates section"
   ]
  },
  {
   "cell_type": "code",
   "execution_count": 46,
   "metadata": {
    "collapsed": true
   },
   "outputs": [],
   "source": [
    "import pandas as pd\n",
    "import numpy as np\n",
    "\n",
    "from sklearn.neighbors import KNeighborsRegressor\n",
    "from sklearn.metrics import mean_squared_error\n",
    "\n",
    "import pandas as pd\n",
    "%matplotlib inline\n",
    "import random\n",
    "import matplotlib.pyplot as plt\n",
    "import seaborn as sns"
   ]
  },
  {
   "cell_type": "code",
   "execution_count": 106,
   "metadata": {},
   "outputs": [
    {
     "name": "stdout",
     "output_type": "stream",
     "text": [
      "Row count: 5713\n",
      "Done!\n"
     ]
    }
   ],
   "source": [
    "# Reload data file\n",
    "df = pd.read_csv('censo2ok-comdist-6.csv', sep = ',')\n",
    "#df.head(1)\n",
    "\n",
    "# Drop unwanted rows\n",
    "df = df[df.time_to_hospital > 0]\n",
    "df = df[df.distance_to_hospital > 0]\n",
    "df = df[df.hospital_wait_time > 0]\n",
    "df = df[df.hospital_service_time > 0]\n",
    "df = df[df.Other_Hospital != \"\"]\n",
    "#df = df[df.endereco_cidade == \"NATAL\"]\n",
    "\n",
    "#df.info()\n",
    "row_count = df.shape[0]\n",
    "print('Row count: ' + str(row_count))\n",
    "train_count = int(row_count * 3 / 4)\n",
    "\n",
    "# Include new columns\n",
    "df['time_to_hospital_norm'] = df.apply(lambda row : '-1', axis=1)\n",
    "df['distance_to_hospital_norm'] = df.apply(lambda row : '-1', axis=1)\n",
    "df['time_to_Other_Hospital_norm'] = df.apply(lambda row : '-1', axis=1)\n",
    "df['distance_to_Other_Hospital_norm'] = df.apply(lambda row : '-1', axis=1)\n",
    "df['Other_Hospital_wait_time'] = df.apply(lambda row : '-1', axis=1)\n",
    "df['Other_Hospital_service_time'] = df.apply(lambda row : '-1', axis=1)\n",
    "\n",
    "# Normalize attributes\n",
    "mean_value = df['time_to_hospital'].mean()\n",
    "std_value = df['time_to_hospital'].std()\n",
    "normalized_col = (df['time_to_hospital'] - mean_value) / std_value\n",
    "df['time_to_hospital_norm'] = normalized_col\n",
    "\n",
    "mean_value = df['distance_to_hospital'].mean()\n",
    "std_value = df['distance_to_hospital'].std()\n",
    "normalized_col = (df['distance_to_hospital'] - mean_value) / std_value\n",
    "df['distance_to_hospital_norm'] = normalized_col\n",
    "\n",
    "mean_value = df['time_to_Other_Hospital'].mean()\n",
    "std_value = df['time_to_Other_Hospital'].std()\n",
    "normalized_col = (df['time_to_Other_Hospital'] - mean_value) / std_value\n",
    "df['time_to_Other_Hospital_norm'] = normalized_col\n",
    "\n",
    "mean_value = df['distance_to_Other_Hospital'].mean()\n",
    "std_value = df['distance_to_Other_Hospital'].std()\n",
    "normalized_col = (df['distance_to_Other_Hospital'] - mean_value) / std_value\n",
    "df['distance_to_Other_Hospital_norm'] = normalized_col\n",
    "\n",
    "# Generate training and testing dataframes\n",
    "train_df = df.iloc[0:train_count]\n",
    "test_df = df.iloc[train_count:]\n",
    "\n",
    "print('Done!')\n"
   ]
  },
  {
   "cell_type": "code",
   "execution_count": 107,
   "metadata": {},
   "outputs": [
    {
     "name": "stdout",
     "output_type": "stream",
     "text": [
      "Wait time - Best K: 7\n",
      "Wait time - Best MSE: 36755.0612531\n",
      "Service time - Best K: 2\n",
      "Service time - Best MSE: 1163619.35777\n"
     ]
    }
   ],
   "source": [
    "#features_to_use = ['time_to_hospital', \\\n",
    "#    'distance_to_hospital', 'hospital_wait_time', 'hospital_service_time']\n",
    "\n",
    "#knn = KNeighborsRegressor(n_neighbors=5, algorithm='brute')\n",
    "#knn.fit(train_df[features_to_use], train_df['hospital_service_time'])\n",
    "#predictions = knn.predict(test_df[features_to_use])\n",
    "#mse = mean_squared_error(test_df['hospital_service_time'], predictions)\n",
    "\n",
    "#print(predictions)\n",
    "#print('MSE: '+ str(mse))\n",
    "\n",
    "# Estimate wait time\n",
    "hyper_params = [1, 2, 3, 4, 5, 6, 7, 8, 9, 10, \\\n",
    "                11, 12, 13, 14, 15, 16, 17, 18, 19, 20]\n",
    "\n",
    "best_k = 0\n",
    "best_mse = 0\n",
    "\n",
    "features_1 = ['time_to_hospital_norm', 'distance_to_hospital_norm', \\\n",
    "    'hospital_wait_time', 'hospital_service_time']\n",
    "\n",
    "for i, hyper in enumerate(hyper_params):\n",
    "    knn = KNeighborsRegressor(n_neighbors=hyper, algorithm='brute')\n",
    "    knn.fit(train_df[features_1], train_df['hospital_wait_time'])\n",
    "    predictions = knn.predict(test_df[features_1])\n",
    "    mse = mean_squared_error(test_df['hospital_wait_time'], predictions)\n",
    "    if (best_k == 0) or (mse < best_mse):\n",
    "        best_k = hyper\n",
    "        best_mse = mse\n",
    "\n",
    "print('Wait time - Best K: ' + str(best_k))\n",
    "print('Wait time - Best MSE: '+ str(best_mse))\n",
    "\n",
    "features_2 = ['time_to_Other_Hospital_norm', 'distance_to_Other_Hospital_norm', \\\n",
    "    'hospital_wait_time', 'hospital_service_time']\n",
    "\n",
    "knn = KNeighborsRegressor(n_neighbors=best_k, algorithm='brute')\n",
    "knn.fit(df[features_1], df['hospital_wait_time'])\n",
    "predictions = knn.predict(df[features_2])\n",
    "df['Other_Hospital_wait_time'] = [int(x) for x in predictions]\n",
    "\n",
    "# Estimate service time\n",
    "best_k = 0\n",
    "best_mse = 0\n",
    "\n",
    "features_1 = ['time_to_hospital_norm', 'distance_to_hospital_norm', \\\n",
    "    'hospital_wait_time', 'hospital_service_time']\n",
    "\n",
    "for i, hyper in enumerate(hyper_params):\n",
    "    knn = KNeighborsRegressor(n_neighbors=hyper, algorithm='brute')\n",
    "    knn.fit(train_df[features_1], train_df['hospital_service_time'])\n",
    "    predictions = knn.predict(test_df[features_1])\n",
    "    mse = mean_squared_error(test_df['hospital_service_time'], predictions)\n",
    "    if (best_k == 0) or (mse < best_mse):\n",
    "        best_k = hyper\n",
    "        best_mse = mse\n",
    "\n",
    "print('Service time - Best K: ' + str(best_k))\n",
    "print('Service time - Best MSE: '+ str(best_mse))\n",
    "\n",
    "features_2 = ['time_to_Other_Hospital_norm', 'distance_to_Other_Hospital_norm', \\\n",
    "    'hospital_wait_time', 'hospital_service_time']\n",
    "\n",
    "knn = KNeighborsRegressor(n_neighbors=best_k, algorithm='brute')\n",
    "knn.fit(df[features_1], df['hospital_service_time'])\n",
    "predictions = knn.predict(df[features_2])\n",
    "df['Other_Hospital_service_time'] = [int(x) for x in predictions]\n",
    "\n",
    "df = df.drop('time_to_hospital_norm', axis=1)\n",
    "df = df.drop('distance_to_hospital_norm', axis=1)\n",
    "df = df.drop('time_to_Other_Hospital_norm', axis=1)\n",
    "df = df.drop('distance_to_Other_Hospital_norm', axis=1)\n"
   ]
  },
  {
   "cell_type": "code",
   "execution_count": null,
   "metadata": {
    "collapsed": true
   },
   "outputs": [],
   "source": [
    "df.to_csv('censo2ok-comdist-7.csv')\n",
    "print('Done!')"
   ]
  },
  {
   "attachments": {
    "time_comparison.png": {
     "image/png": "[encoded data removed]"
    }
   },
   "cell_type": "markdown",
   "metadata": {},
   "source": [
    "![time_comparison.png](attachment:time_comparison.png)"
   ]
  },
  {
   "attachments": {
    "time_difference.png": {
     "image/png": "[encoded data removed]"
    }
   },
   "cell_type": "markdown",
   "metadata": {},
   "source": [
    "![time_difference.png](attachment:time_difference.png)"
   ]
  }
 ],
 "metadata": {
  "kernelspec": {
   "display_name": "Python 3",
   "language": "python",
   "name": "python3"
  },
  "language_info": {
   "codemirror_mode": {
    "name": "ipython",
    "version": 3
   },
   "file_extension": ".py",
   "mimetype": "text/x-python",
   "name": "python",
   "nbconvert_exporter": "python",
   "pygments_lexer": "ipython3",
   "version": "3.6.3"
  }
 },
 "nbformat": 4,
 "nbformat_minor": 2
}
